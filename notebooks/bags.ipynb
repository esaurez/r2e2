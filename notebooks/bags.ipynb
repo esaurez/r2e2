{
 "cells": [
  {
   "cell_type": "markdown",
   "metadata": {},
   "source": [
    "## How to Use\n",
    "\n",
    "1. Run the job with `-B <rate>`.\n",
    "2. Create `bags.csv` by running the following command in the log directory:\n",
    "```\n",
    "r2t2/scripts/parse_worker_info.py -i . -t BAG -o bags.csv\n",
    "```\n",
    "\n",
    "**Make sure** you have `numpy`, `matplotlib` and `pandas` installed."
   ]
  },
  {
   "cell_type": "code",
   "execution_count": null,
   "metadata": {},
   "outputs": [],
   "source": [
    "import os\n",
    "import sys\n",
    "import numpy as np\n",
    "import pandas as pd\n",
    "import matplotlib.pyplot as plt\n",
    "\n",
    "from IPython.display import display\n",
    "\n",
    "plt.rcParams['figure.figsize'] = 12, 10\n",
    "plt.rcParams.update({'font.size': 16})\n",
    "pd.options.display.max_rows = 20\n",
    "\n",
    "def show_more(d, lines):\n",
    "    save = pd.options.display.max_rows\n",
    "    pd.options.display.max_rows = lines\n",
    "    display(d)\n",
    "    pd.options.display.max_rows = save\n",
    "    \n",
    "def show_all(d):\n",
    "    return show_more(d, len(d))\n",
    "\n",
    "def read_data(path):\n",
    "    data = pd.read_csv(path, dtype={'bag': object})\n",
    "    min_timestamp = min(data.timestamp)\n",
    "    data['timestamp_ms'] = data.timestamp - min_timestamp\n",
    "    del data['timestamp']\n",
    "    return data\n",
    "\n",
    "def show_bag(data, bag_id):\n",
    "    p = (data[data.bag == bag_id]       \n",
    "        .sort_values(by=['timestamp_ms'])).reset_index(drop=True)\n",
    "    \n",
    "    #def highlighter(x):\n",
    "    #    return ['background-color: rgba(255, 255, 255, 0.1)' if (x.hop % 2 == 0) else '' for y in x]\n",
    "    \n",
    "    #q = p.style.apply(highlighter, axis=1)\n",
    "    show_more(p, len(p))"
   ]
  },
  {
   "cell_type": "code",
   "execution_count": null,
   "metadata": {},
   "outputs": [],
   "source": [
    "bags = read_data(\"/mnt/data/bags2.csv\")"
   ]
  },
  {
   "cell_type": "code",
   "execution_count": null,
   "metadata": {},
   "outputs": [],
   "source": [
    "def time_to_finish(x):\n",
    "    a = x.to_numpy()\n",
    "    if len(a) < 2:\n",
    "        return None\n",
    "    return a[1] - a[0]\n",
    "\n",
    "d = (bags[bags.action.isin([\"Created\", \"Sealed\", \"Submitted\"])]\n",
    "         .sort_values(by=['timestamp_ms'])\n",
    "         .groupby(\"bag\")\n",
    "         .agg({'timestamp_ms': time_to_finish, 'size': 'max'}))\n",
    "\n",
    "sizes = d['size'].to_numpy()\n",
    "times = d.timestamp_ms.to_numpy()\n",
    "\n",
    "plt.scatter(times, sizes, marker='+', alpha=0.005, s=10)\n",
    "plt.xlim(0,250)\n",
    "plt.gcf().set_facecolor('white')\n",
    "plt.ylabel('sizes (bytes)')\n",
    "plt.xlabel('time (ms)')\n",
    "plt.axes().ticklabel_format(scilimits=(0,0))"
   ]
  },
  {
   "cell_type": "code",
   "execution_count": null,
   "metadata": {},
   "outputs": [],
   "source": [
    "plt.hist(bags[bags.bag.str.contains(\"T0/\")].groupby(\"bag\").agg({'size': 'max'}).to_numpy(),\n",
    "         density=True, cumulative=True, bins=200)\n",
    "plt.gcf().set_facecolor('white')\n",
    "plt.xlabel('Bag Size (bytes)')\n",
    "plt.ylabel('CDF')\n",
    "plt.axes().ticklabel_format(scilimits=(0,0))"
   ]
  },
  {
   "cell_type": "code",
   "execution_count": null,
   "metadata": {},
   "outputs": [],
   "source": [
    "d = (bags[bags.action.isin([\"Submitted\"]) & bags.bag.str.contains(\"T0/\")]\n",
    "         .sort_values(by=['timestamp_ms'])\n",
    "         .groupby(\"bag\")\n",
    "         .agg({'timestamp_ms': 'max', 'size': 'max'}))\n",
    "\n",
    "sizes = d['size'].to_numpy()\n",
    "times = d.timestamp_ms.to_numpy()\n",
    "\n",
    "plt.gcf().set_facecolor('white')\n",
    "plt.scatter(times, sizes, alpha=0.01, marker='+')\n",
    "plt.ylabel('sizes (bytes)')\n",
    "plt.xlabel('time (ms)')\n",
    "plt.axes().ticklabel_format(scilimits=(0,0))"
   ]
  },
  {
   "cell_type": "code",
   "execution_count": null,
   "metadata": {},
   "outputs": [],
   "source": [
    "bags"
   ]
  },
  {
   "cell_type": "code",
   "execution_count": null,
   "metadata": {},
   "outputs": [],
   "source": []
  }
 ],
 "metadata": {
  "kernelspec": {
   "display_name": "Python 3",
   "language": "python",
   "name": "python3"
  },
  "language_info": {
   "codemirror_mode": {
    "name": "ipython",
    "version": 3
   },
   "file_extension": ".py",
   "mimetype": "text/x-python",
   "name": "python",
   "nbconvert_exporter": "python",
   "pygments_lexer": "ipython3",
   "version": "3.8.2"
  }
 },
 "nbformat": 4,
 "nbformat_minor": 4
}
