{
 "cells": [
  {
   "cell_type": "code",
   "execution_count": null,
   "metadata": {},
   "outputs": [],
   "source": [
    "import os\n",
    "import sys\n",
    "import numpy as np\n",
    "import pandas as pd\n",
    "import matplotlib.pyplot as plt\n",
    "\n",
    "from IPython.display import display\n",
    "\n",
    "plt.rcParams['figure.figsize'] = 12, 10\n",
    "plt.rcParams.update({'font.size': 16})\n",
    "pd.options.display.max_rows = 20\n",
    "\n",
    "def show_more(d, lines):\n",
    "    save = pd.options.display.max_rows\n",
    "    pd.options.display.max_rows = lines\n",
    "    display(d)\n",
    "    pd.options.display.max_rows = save\n",
    "    \n",
    "def show_all(d):\n",
    "    return show_more(d, len(d))\n",
    "\n",
    "def read_data(rays):\n",
    "    ray_data = pd.read_csv(rays, dtype={'hop': 'UInt16', 'shadowRay': 'UInt8', 'workerId': 'UInt16', 'treeletId': 'UInt16', 'remainingBounces': 'UInt8'},\n",
    "                          low_memory=False)\n",
    "    return ray_data\n",
    "\n",
    "def show_path(data, path_id):\n",
    "    p = (data[(data.pathId == path_id) & (data.shadowRay == 0) & data.action.isin(['G', 'U'])]\n",
    "        .loc[:, ['remainingBounces', 'hop', 'workerId', 'treeletId', 'action']]\n",
    "        .sort_values(by=['remainingBounces', 'hop'], ascending=[False, True])).reset_index(drop=True)\n",
    "    \n",
    "    return p\n",
    "\n",
    "def show_longest_paths(data):\n",
    "    return (data[data.action.isin(['G', 'F'])]\n",
    "            .groupby('pathId')\n",
    "            .agg({'hop': 'max'})\n",
    "            .head(20))"
   ]
  },
  {
   "cell_type": "code",
   "execution_count": null,
   "metadata": {},
   "outputs": [],
   "source": [
    "rays = read_data(\"/data/r2t2/logs/2020-07-28/moana-1_w1000_16spp_d5/top-rays.csv\")"
   ]
  },
  {
   "cell_type": "code",
   "execution_count": null,
   "metadata": {},
   "outputs": [],
   "source": [
    "show_longest_paths(rays)"
   ]
  },
  {
   "cell_type": "code",
   "execution_count": null,
   "metadata": {},
   "outputs": [],
   "source": [
    "p = show_path(rays, 3498002)"
   ]
  },
  {
   "cell_type": "code",
   "execution_count": null,
   "metadata": {},
   "outputs": [],
   "source": [
    "p"
   ]
  },
  {
   "cell_type": "code",
   "execution_count": null,
   "metadata": {},
   "outputs": [],
   "source": [
    "len(set(p.treeletId.to_list()))"
   ]
  },
  {
   "cell_type": "code",
   "execution_count": null,
   "metadata": {},
   "outputs": [],
   "source": []
  }
 ],
 "metadata": {
  "kernelspec": {
   "display_name": "Python 3",
   "language": "python",
   "name": "python3"
  },
  "language_info": {
   "codemirror_mode": {
    "name": "ipython",
    "version": 3
   },
   "file_extension": ".py",
   "mimetype": "text/x-python",
   "name": "python",
   "nbconvert_exporter": "python",
   "pygments_lexer": "ipython3",
   "version": "3.8.2"
  }
 },
 "nbformat": 4,
 "nbformat_minor": 4
}
