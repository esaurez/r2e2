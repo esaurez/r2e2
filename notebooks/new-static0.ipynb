{
 "cells": [
  {
   "cell_type": "code",
   "execution_count": null,
   "id": "03e4fa1d-595d-4cd1-b08d-773796a2f520",
   "metadata": {},
   "outputs": [],
   "source": [
    "import os\n",
    "import sys\n",
    "import numpy as np\n",
    "import pandas as pd\n",
    "import matplotlib.pyplot as plt"
   ]
  },
  {
   "cell_type": "code",
   "execution_count": null,
   "id": "66a4f727-fcc9-463d-8e79-04933897ea61",
   "metadata": {},
   "outputs": [],
   "source": [
    "PATH = lambda x : os.path.join(\"/home/sadjad/temp/static/\", x)\n",
    "\n",
    "worker_data = pd.read_csv(PATH('workers.csv'))\n",
    "summary_data = pd.read_csv(PATH('summary.csv'))"
   ]
  },
  {
   "cell_type": "code",
   "execution_count": null,
   "id": "6ea35597-fade-496b-93bd-0406b6781a55",
   "metadata": {},
   "outputs": [],
   "source": [
    "d = worker_data.sort_values('workerId').groupby('workerId').agg({\n",
    "    'workerId': 'max',\n",
    "    'raysEnqueued': 'sum',\n",
    "    'raysDequeued': 'sum',\n",
    "    'bytesEnqueued': 'sum',\n",
    "    'bytesDequeued': 'sum',\n",
    "    'numSamples': 'sum',\n",
    "    'bytesSamples': 'sum'\n",
    "}).reset_index(drop=True)\n",
    "\n",
    "data = pd.merge(d, summary_data, how='left', on='workerId', validate='1:1')\n",
    "\n",
    "BANDWIDTH = 50_000_000 # 50 MB/s\n",
    "SHADE_CUTOFF = 100\n",
    "MEAN_SHADE_TIME = np.mean(data[data.shade > SHADE_CUTOFF].processTime / data[data.shade > SHADE_CUTOFF].shade)\n",
    "\n",
    "def get_compute(d):\n",
    "    if d.trace > 0:\n",
    "        return d.processTime / 2\n",
    "    elif d.shade > SHADE_CUTOFF:\n",
    "        return d.processTime / 1.5\n",
    "    elif d.shade > 0:\n",
    "        return (MEAN_SHADE_TIME * d.shade) / 1.5\n",
    "    else:\n",
    "        return d.processTime\n",
    "\n",
    "data['transfer'] = (data.bytesDequeued + data.bytesEnqueued + data.bytesSamples) / BANDWIDTH\n",
    "data['compute'] = data.apply(get_compute, axis=1) / 1e9\n",
    "data['weight'] = np.maximum(data.transfer, data.compute)\n",
    "\n",
    "t0_weight = data[data.treeletId == 0].weight.values[0]\n",
    "envmap_filter = (data.trace == 0) & (data.shade == 0) & (data.process > 0)\n",
    "data.loc[envmap_filter, 'weight'] = t0_weight\n",
    "\n",
    "\n",
    "u_shade = data[data.shade > 0]\n",
    "u_trace = data[data.trace > 0]\n",
    "u_other = data[(data.trace == 0) & (data.shade == 0)]\n",
    "plt.scatter(u_shade.raysDequeued, u_shade.weight, marker='*', label='Shade')\n",
    "plt.scatter(u_trace.raysDequeued, u_trace.weight, marker='+', label='Trace')\n",
    "plt.scatter(u_other.raysDequeued, u_other.weight, marker='+', label='Other')\n",
    "plt.xscale('log')\n",
    "plt.legend()\n",
    "\n",
    "data[data.treeletId.isin([2,3])]"
   ]
  },
  {
   "cell_type": "code",
   "execution_count": null,
   "id": "234851ff-a16f-495b-aad3-68b320d43000",
   "metadata": {},
   "outputs": [],
   "source": []
  },
  {
   "cell_type": "code",
   "execution_count": null,
   "id": "3210073d-cd32-454c-a682-3be2810a211d",
   "metadata": {},
   "outputs": [],
   "source": []
  }
 ],
 "metadata": {
  "kernelspec": {
   "display_name": "Python 3",
   "language": "python",
   "name": "python3"
  },
  "language_info": {
   "codemirror_mode": {
    "name": "ipython",
    "version": 3
   },
   "file_extension": ".py",
   "mimetype": "text/x-python",
   "name": "python",
   "nbconvert_exporter": "python",
   "pygments_lexer": "ipython3",
   "version": "3.9.7"
  }
 },
 "nbformat": 4,
 "nbformat_minor": 5
}
