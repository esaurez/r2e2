{
 "cells": [
  {
   "cell_type": "code",
   "execution_count": null,
   "id": "03e4fa1d-595d-4cd1-b08d-773796a2f520",
   "metadata": {},
   "outputs": [],
   "source": [
    "import os\n",
    "import sys\n",
    "import numpy as np\n",
    "import pandas as pd\n",
    "import matplotlib.pyplot as plt"
   ]
  },
  {
   "cell_type": "code",
   "execution_count": null,
   "id": "66a4f727-fcc9-463d-8e79-04933897ea61",
   "metadata": {},
   "outputs": [],
   "source": [
    "PATH = lambda x : os.path.join(\"/home/sadjad/temp/static/\", x)\n",
    "\n",
    "worker_data = pd.read_csv(PATH('workers.csv'))\n",
    "summary_data = pd.read_csv(PATH('summary.csv'))"
   ]
  },
  {
   "cell_type": "code",
   "execution_count": null,
   "id": "6ea35597-fade-496b-93bd-0406b6781a55",
   "metadata": {},
   "outputs": [],
   "source": [
    "d = worker_data.sort_values('workerId').groupby('workerId').agg({\n",
    "    'workerId': 'max',\n",
    "    'raysEnqueued': 'sum',\n",
    "    'raysDequeued': 'sum',\n",
    "    'bytesEnqueued': 'sum',\n",
    "    'bytesDequeued': 'sum'\n",
    "}).reset_index(drop=True)\n",
    "\n",
    "data = pd.merge(d, summary_data, how='left', on='workerId', validate='1:1')\n",
    "\n",
    "BANDWIDTH = 50_000_000 # 50 MB/s\n",
    "SHADE_CUTOFF = 100\n",
    "MEAN_SHADE_TIME = np.mean(data[data.shade > SHADE_CUTOFF].shadeTime / data[data.shade > SHADE_CUTOFF].shade)\n",
    "\n",
    "def get_compute(d):\n",
    "    if d.trace > 0:\n",
    "        return d.traceTime / 2\n",
    "    elif d.shade > SHADE_CUTOFF:\n",
    "        return d.shadeTime / 1.5\n",
    "    elif d.shade > 0:\n",
    "        return (MEAN_SHADE_TIME * d.shade) / 1.5\n",
    "    else:\n",
    "        return 0\n",
    "\n",
    "data['transfer'] = (data.bytesDequeued + data.bytesEnqueued) / BANDWIDTH\n",
    "data['compute'] = data.apply(get_compute, axis=1) / 1e9\n",
    "data['weight'] = np.maximum(data.transfer, data.compute)\n",
    "\n",
    "u_shade = data[data.shade > 0]\n",
    "u_trace = data[data.trace > 0]\n",
    "plt.scatter(u_shade.raysDequeued, u_shade.weight, marker='*', label='Shade')\n",
    "plt.scatter(u_trace.raysDequeued, u_trace.weight, marker='+', label='Trace')\n",
    "plt.xscale('log')\n",
    "plt.legend()\n",
    "\n",
    "data[(data.weight < 11) & (data.weight > 9)]"
   ]
  },
  {
   "cell_type": "code",
   "execution_count": null,
   "id": "234851ff-a16f-495b-aad3-68b320d43000",
   "metadata": {},
   "outputs": [],
   "source": [
    "data[data.workerId == 269]"
   ]
  },
  {
   "cell_type": "code",
   "execution_count": null,
   "id": "d7db191b-c834-45ef-85c9-931912e137a2",
   "metadata": {},
   "outputs": [],
   "source": [
    "treelet_data[treelet_data.treeletId == 2].sum()"
   ]
  },
  {
   "cell_type": "code",
   "execution_count": null,
   "id": "9c4189ad-b02c-403e-a799-17cca218c271",
   "metadata": {},
   "outputs": [],
   "source": []
  }
 ],
 "metadata": {
  "kernelspec": {
   "display_name": "Python 3",
   "language": "python",
   "name": "python3"
  },
  "language_info": {
   "codemirror_mode": {
    "name": "ipython",
    "version": 3
   },
   "file_extension": ".py",
   "mimetype": "text/x-python",
   "name": "python",
   "nbconvert_exporter": "python",
   "pygments_lexer": "ipython3",
   "version": "3.9.7"
  }
 },
 "nbformat": 4,
 "nbformat_minor": 5
}
