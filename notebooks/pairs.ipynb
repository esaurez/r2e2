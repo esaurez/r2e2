{
 "cells": [
  {
   "cell_type": "code",
   "execution_count": null,
   "metadata": {},
   "outputs": [],
   "source": [
    "import os\n",
    "import sys\n",
    "import pandas as pd\n",
    "import matplotlib.pyplot as plt\n",
    "import numpy as np\n",
    "import subprocess as sub\n",
    "import tempfile\n",
    "\n",
    "from IPython.display import Image, display"
   ]
  },
  {
   "cell_type": "code",
   "execution_count": null,
   "metadata": {},
   "outputs": [],
   "source": [
    "plt.rcParams['figure.figsize'] = 12, 10\n",
    "plt.rcParams.update({'font.size': 16})"
   ]
  },
  {
   "cell_type": "code",
   "execution_count": null,
   "metadata": {},
   "outputs": [],
   "source": [
    "data = pd.read_csv(\"/data/r2t2/logs/2020-03-30/moana-full-1spp-2/rays-v2.csv.gz\",\n",
    "                   compression='gzip')"
   ]
  },
  {
   "cell_type": "code",
   "execution_count": null,
   "metadata": {},
   "outputs": [],
   "source": [
    "sorted_data = (data[data.action.isin(['U'])]\n",
    "                   .sort_values(['pathId', 'hop', 'timestamp_ms'])).reset_index(drop=True)"
   ]
  },
  {
   "cell_type": "code",
   "execution_count": null,
   "metadata": {},
   "outputs": [],
   "source": [
    "treelet_count = np.max(data.treeletId) + 1"
   ]
  },
  {
   "cell_type": "code",
   "execution_count": null,
   "metadata": {},
   "outputs": [],
   "source": [
    "def pairs_matrix(data, treelet_count):\n",
    "    m = np.zeros((treelet_count, treelet_count))\n",
    "    \n",
    "    it = data.itertuples()\n",
    "    start = next(it)\n",
    "    \n",
    "    current_treelet = start.treeletId\n",
    "    next_treelet = None\n",
    "    \n",
    "    current_path_id = start.pathId\n",
    "    \n",
    "    for row in it:\n",
    "        if row.pathId != current_path_id:\n",
    "            current_treelet = row.treeletId\n",
    "            current_path_id = row.pathId\n",
    "            continue\n",
    "            \n",
    "        next_treelet = row.treeletId\n",
    "        m[current_treelet, next_treelet] += 1\n",
    "        current_treelet = next_treelet\n",
    "        \n",
    "    return m"
   ]
  },
  {
   "cell_type": "code",
   "execution_count": null,
   "metadata": {},
   "outputs": [],
   "source": [
    "m = pairs_matrix(sorted_data, treelet_count)"
   ]
  },
  {
   "cell_type": "code",
   "execution_count": null,
   "metadata": {},
   "outputs": [],
   "source": [
    "plt.imshow(m, cmap='binary')\n",
    "plt.colorbar()\n",
    "plt.xlabel('Treelet Id')\n",
    "plt.ylabel('Treelet Id')"
   ]
  },
  {
   "cell_type": "code",
   "execution_count": null,
   "metadata": {},
   "outputs": [],
   "source": [
    "def parse_graph(dot_file):\n",
    "    treelet_count = 0\n",
    "    raw = []\n",
    "    \n",
    "    with open(dot_file, \"r\") as f:\n",
    "        for line in f:\n",
    "            if '->' not in line:\n",
    "                continue\n",
    "                \n",
    "            line = line.strip().split(\" \")\n",
    "            src, dst = int(line[0][1:]), int(line[2][1:])\n",
    "            instance = len(line) > 3\n",
    "            \n",
    "            raw += [(src, dst, instance)]\n",
    "            treelet_count = max(src, dst, treelet_count)\n",
    "    \n",
    "    treelet_count += 1\n",
    "    instance_roots = set([x[1] for x in raw if x[2]])\n",
    "    graph = {}\n",
    "    \n",
    "    for r in raw:\n",
    "        if not r[2]:\n",
    "            graph[r[0]] = graph.get(r[0], []) + [r[1]]\n",
    "    \n",
    "    treelets = set(range(0, treelet_count))\n",
    "    \n",
    "    main_graph = []\n",
    "    stack = [0]\n",
    "    \n",
    "    while len(stack):\n",
    "        n = stack.pop()\n",
    "        for x in graph.get(n, []):\n",
    "            main_graph += [(n, x)]\n",
    "            stack.append(x)\n",
    "            \n",
    "    instance_graphs = {}\n",
    "    \n",
    "    for root in instance_roots:\n",
    "        instance_graphs[root] = []\n",
    "        \n",
    "        stack = [root]\n",
    "        while len(stack):\n",
    "            n = stack.pop()\n",
    "            \n",
    "            for x in graph.get(n, []):\n",
    "                instance_graphs[root] += [(n, x)]\n",
    "                stack.append(x)\n",
    "    \n",
    "    return main_graph, instance_graphs\n",
    "\n",
    "def plot_graph(graph, M):\n",
    "    M = M / np.sum(M)\n",
    "    \n",
    "    with tempfile.NamedTemporaryFile(suffix=\".gv\") as fin, \\\n",
    "         tempfile.NamedTemporaryFile(suffix=\".jpg\") as fout:\n",
    "        fin.write(b'digraph bvh {\\n')\n",
    "        fin.write(b'  graph [K=0.6,size=\"9,9!\",dpi=100,ratio=\"fill\",scale=3];')\n",
    "        fin.write(b'  node [shape=circle,style=filled'\n",
    "                  b',fillcolor=white,label=\"\",width=0.3];')\n",
    "        fin.write(b'  edge [arrowhead=vee,arrowsize=0.5];')\n",
    "        fin.write(b'  overlap = false;\\n  splines = true;')\n",
    "\n",
    "#         for edge in graph:\n",
    "#             fin.write(f'  T{edge[0]} -> T{edge[1]};\\n'.encode('utf-8'))\n",
    "            \n",
    "#        for i in range(162):\n",
    "#            fin.write(f' T{i};\\n'.encode('utf-8'))\n",
    "            \n",
    "        for i in range(M.shape[0]):\n",
    "            for j in range(i, M.shape[1]):\n",
    "                if M[i, j] > 0:\n",
    "                    fin.write(f' T{i} -> T{j} [penwidth={1}];\\n'.encode('utf-8'))\n",
    "                    fin.write(f' T{i} [label=\"{i}\"];'.encode('utf-8'))\n",
    "                    fin.write(f' T{j} [label=\"{j}\"];'.encode('utf-8'))\n",
    "    \n",
    "            \n",
    "#         for index, row in data[(data.timestamp_s < timestamp) & (data.raysDequeued > 0)].iterrows():\n",
    "#             fin.write(f' T{int(row.treeletId)} [fillcolor=\"green\"];\\n'.encode('utf-8'))\n",
    "            \n",
    "        fin.write(b'}\\n')\n",
    "        fin.flush()\n",
    "        \n",
    "        sub.run([\"sfdp\", \"-Tjpg\", fin.name, \"-o\", fout.name], check=True)\n",
    "        return Image(filename=fout.name)"
   ]
  },
  {
   "cell_type": "code",
   "execution_count": null,
   "metadata": {},
   "outputs": [],
   "source": [
    "main_graph, instance_graphs = parse_graph(\"/data/r2t2/scenes/moana-full-nvidia/graph.dot\")\n",
    "plot_graph(main_graph, m)"
   ]
  },
  {
   "cell_type": "code",
   "execution_count": null,
   "metadata": {
    "scrolled": true
   },
   "outputs": [],
   "source": [
    "for i in range(m.shape[0]):\n",
    "    for j in range(m.shape[1]):\n",
    "        if m[i, j] > 0:\n",
    "            print(i, j, int(m[i, j]), sep=',')"
   ]
  },
  {
   "cell_type": "code",
   "execution_count": null,
   "metadata": {},
   "outputs": [],
   "source": []
  }
 ],
 "metadata": {
  "kernelspec": {
   "display_name": "Python 3",
   "language": "python",
   "name": "python3"
  },
  "language_info": {
   "codemirror_mode": {
    "name": "ipython",
    "version": 3
   },
   "file_extension": ".py",
   "mimetype": "text/x-python",
   "name": "python",
   "nbconvert_exporter": "python",
   "pygments_lexer": "ipython3",
   "version": "3.8.2"
  }
 },
 "nbformat": 4,
 "nbformat_minor": 4
}
