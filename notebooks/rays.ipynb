{
 "cells": [
  {
   "cell_type": "markdown",
   "metadata": {},
   "source": [
    "## How to Use\n",
    "\n",
    "1. Run the job with `-L <rate>`.\n",
    "2. Create `rays.csv` and `bags.csv by running the following commands in the log directory:\n",
    "```\n",
    "r2t2/scripts/parse_worker_info.py -i . -t RAG -o rays.csv\n",
    "r2t2/scripts/parse_worker_info.py -i . -t BAG -o bags.csv\n",
    "```\n",
    "\n",
    "**Make sure** you have `numpy`, `matplotlib` and `pandas` installed."
   ]
  },
  {
   "cell_type": "code",
   "execution_count": null,
   "metadata": {},
   "outputs": [],
   "source": [
    "import os\n",
    "import sys\n",
    "import numpy as np\n",
    "import pandas as pd\n",
    "import matplotlib.pyplot as plt\n",
    "\n",
    "from IPython.display import display\n",
    "\n",
    "plt.rcParams['figure.figsize'] = 12, 10\n",
    "plt.rcParams.update({'font.size': 16})\n",
    "pd.options.display.max_rows = 20\n",
    "\n",
    "def show_more(d, lines):\n",
    "    save = pd.options.display.max_rows\n",
    "    pd.options.display.max_rows = lines\n",
    "    display(d)\n",
    "    pd.options.display.max_rows = save\n",
    "    \n",
    "def show_all(d):\n",
    "    return show_more(d, len(d))\n",
    "\n",
    "def read_data(rays, bags):\n",
    "    ray_data = pd.read_csv(rays, dtype={'bag': object})\n",
    "    bag_data = pd.read_csv(bags)\n",
    "    \n",
    "    min_timestamp_ray = min(ray_data.timestamp)\n",
    "    min_timestamp_bag = min(bag_data.timestamp)\n",
    "    min_timestamp = min(min_timestamp_ray, min_timestamp_bag)\n",
    "    \n",
    "    ray_data['timestamp_ms'] = ray_data.timestamp - min_timestamp\n",
    "    bag_data['timestamp_ms'] = bag_data.timestamp - min_timestamp\n",
    "    \n",
    "    del ray_data['timestamp']\n",
    "    del bag_data['timestamp']\n",
    "    \n",
    "    return ray_data, bag_data\n",
    "\n",
    "def show_path(data, path_id):\n",
    "    p = (data[(data.pathId == path_id) & (data.shadowRay == 0)]\n",
    "        .loc[:, ['hop', 'workerId', 'treeletId', 'timestamp_ms', 'action', 'bag']]\n",
    "        .sort_values(by=['hop', 'timestamp_ms'])).reset_index(drop=True)\n",
    "    \n",
    "    def highlighter(x):\n",
    "        return ['background-color: rgba(255, 255, 255, 0.1)' if (x.hop % 2 == 0) else '' for y in x]\n",
    "    \n",
    "    q = p.style.apply(highlighter, axis=1)\n",
    "    show_more(q, len(p))\n",
    "    return q\n",
    "\n",
    "def show_longest_paths(data):\n",
    "    return (data[data.action.isin(['Generated', 'Finished'])]\n",
    "            .groupby('pathId')\n",
    "            .agg({'timestamp_ms': 'max', 'hop': 'max'})\n",
    "            .sort_values('timestamp_ms', ascending=False)\n",
    "            .head(20))"
   ]
  },
  {
   "cell_type": "code",
   "execution_count": null,
   "metadata": {},
   "outputs": [],
   "source": [
    "rays, bags = read_data(\"/data/cloudrt/logs/2019-12-30/killeroo-simple/rays.csv\",\n",
    "                       \"/data/cloudrt/logs/2019-12-30/killeroo-simple/bags.csv\")"
   ]
  },
  {
   "cell_type": "code",
   "execution_count": null,
   "metadata": {},
   "outputs": [],
   "source": [
    "show_longest_paths(rays)"
   ]
  },
  {
   "cell_type": "code",
   "execution_count": null,
   "metadata": {},
   "outputs": [],
   "source": []
  }
 ],
 "metadata": {
  "kernelspec": {
   "display_name": "Python 3",
   "language": "python",
   "name": "python3"
  },
  "language_info": {
   "codemirror_mode": {
    "name": "ipython",
    "version": 3
   },
   "file_extension": ".py",
   "mimetype": "text/x-python",
   "name": "python",
   "nbconvert_exporter": "python",
   "pygments_lexer": "ipython3",
   "version": "3.8.2"
  }
 },
 "nbformat": 4,
 "nbformat_minor": 4
}
