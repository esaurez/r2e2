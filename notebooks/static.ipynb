{
 "cells": [
  {
   "cell_type": "code",
   "execution_count": 1,
   "metadata": {},
   "outputs": [],
   "source": [
    "import os\n",
    "import sys\n",
    "import pandas as pd\n",
    "import numpy as np\n",
    "import matplotlib.pyplot as plt"
   ]
  },
  {
   "cell_type": "code",
   "execution_count": 72,
   "metadata": {},
   "outputs": [],
   "source": [
    "plt.rcParams['figure.figsize'] = (10, 5)"
   ]
  },
  {
   "cell_type": "code",
   "execution_count": 75,
   "metadata": {},
   "outputs": [],
   "source": [
    "def get_data(path):   \n",
    "    treelets = pd.read_csv(os.path.join(path, \"treelets.csv\"))\n",
    "    pbrt = pd.read_csv(os.path.join(path, \"pbrt.csv\"))\n",
    "    \n",
    "    pbrt = pbrt.drop('workerId', axis=1)\n",
    "    \n",
    "    rays = treelets.sort_values('treeletId').groupby('treeletId').agg({'raysDequeued': 'sum'}).raysDequeued.to_numpy()\n",
    "    pbrt = pbrt.sort_values('treeletId').groupby('treeletId').agg('sum')\n",
    "    \n",
    "    return rays, pbrt\n",
    "\n",
    "\n",
    "def generate_static_assignment(path):   \n",
    "    rays, pbrt = get_data(path)\n",
    "\n",
    "    alpha = (100 * (pbrt.nodesVisited) / pbrt.trace / pbrt.nodesTotal).to_numpy()\n",
    "    alpha = alpha / np.min(alpha)\n",
    "    \n",
    "    scores = rays * np.sqrt(alpha)\n",
    "    \n",
    "    with open(os.path.join(path, \"STATIC0_new\"), \"w\") as fout:\n",
    "        print(len(scores), file=fout)\n",
    "        for i in range(len(scores)):\n",
    "            print(f\"{scores[i]:.2f} {1} {i}\", file=fout)\n",
    "            \n",
    "    return rays, alpha\n",
    "        \n",
    "rays, alpha = generate_static_assignment(\"/data/r2t2/logs/2020-08-14/moana-1_w92_1spp_d5_profile\")"
   ]
  },
  {
   "cell_type": "code",
   "execution_count": 54,
   "metadata": {},
   "outputs": [],
   "source": [
    "rays, pbrt = get_data(\"/data/r2t2/logs/2020-08-14/moana-1_w92_1spp_d5_profile\")"
   ]
  },
  {
   "cell_type": "code",
   "execution_count": 60,
   "metadata": {},
   "outputs": [
    {
     "data": {
      "text/plain": [
       "array([  7.17054601,   1.35798505,   8.22132982,   3.8688968 ,\n",
       "        30.77027489,   1.13675897,   6.28737556,  10.16074933,\n",
       "         6.28603088,  24.15778154,  27.00176633,   9.78891296,\n",
       "        55.30805809,  13.38168479,  45.3904871 ,  11.60592422,\n",
       "         5.18784184,   3.86505292,  50.79464794,  20.5503096 ,\n",
       "         3.43987635,   2.13245963,  13.99119483,   5.66667741,\n",
       "         3.07822306,  45.90499748,  49.17308717,  12.73928435,\n",
       "         1.61810913,  24.16905277,   1.54641906,  12.32320719,\n",
       "        13.51600513,  78.63168942,  13.37280552,   8.56886259,\n",
       "         5.59517263,  17.89314517,   1.        ,   5.42322373,\n",
       "         7.35247478,  15.64815772,  31.09157033,  19.48324166,\n",
       "         5.59401375,   1.679426  ,   2.77884156,   1.41991886,\n",
       "        26.22640646,  69.18399444,  10.82702181,   2.60443284,\n",
       "         6.53368393,  28.38685847,  47.30059037,  20.89983101,\n",
       "         7.91472241,   1.90691113,   4.14541591,   3.72836021,\n",
       "        23.31039502,  37.09632058,  54.38771794,  86.37652791,\n",
       "       112.55437487, 169.18247652, 179.99789423,  67.79726989,\n",
       "       172.53029747,  75.85901871,  33.67865725,  13.26825961,\n",
       "        11.51387188, 101.51466357,  41.86292438, 149.55857998,\n",
       "        77.91622746, 178.01170249, 129.00036179,  40.38531598,\n",
       "       124.37227776, 171.95718459,  75.93560804,   6.12242552,\n",
       "         4.58095396,  22.30129995,  18.23678648, 114.58648872,\n",
       "       124.29282432,  21.729326  ,  97.09268038,  34.73190329])"
      ]
     },
     "execution_count": 60,
     "metadata": {},
     "output_type": "execute_result"
    }
   ],
   "source": [
    "alpha"
   ]
  },
  {
   "cell_type": "code",
   "execution_count": 87,
   "metadata": {},
   "outputs": [
    {
     "data": {
      "text/plain": [
       "<matplotlib.collections.PathCollection at 0x7f162d51a0d0>"
      ]
     },
     "execution_count": 87,
     "metadata": {},
     "output_type": "execute_result"
    },
    {
     "data": {
      "image/png": "[encoded data removed]",
      "text/plain": [
       "<Figure size 720x360 with 1 Axes>"
      ]
     },
     "metadata": {
      "needs_background": "light"
     },
     "output_type": "display_data"
    }
   ],
   "source": [
    "#N = sorted([10, 18, 19, 14, 54, 49, 33, 61, 62, 63, 64, 68, 70])\n",
    "N = sorted([68, 64, 63, 54])\n",
    "plt.bar(list(range(92)), rays * alpha)\n",
    "plt.scatter(N, [0.2e8] * len(N), marker='x')"
   ]
  },
  {
   "cell_type": "code",
   "execution_count": 51,
   "metadata": {},
   "outputs": [
    {
     "data": {
      "text/plain": [
       "array([38,  5,  1, 47, 30, 28, 45, 57, 21, 51, 46, 24, 20, 59, 17,  3, 58,\n",
       "       84, 16, 39, 44, 36, 23, 83,  8,  6, 52,  0, 40, 56,  2, 35, 11,  7,\n",
       "       50, 72, 15, 31, 27, 71, 34, 13, 32, 22, 41, 37, 86, 43, 19, 55, 89,\n",
       "       85, 60,  9, 29, 48, 10, 53,  4, 42, 70, 91, 61, 79, 74, 14, 25, 54,\n",
       "       26, 18, 62, 12, 67, 49, 69, 82, 76, 33, 63, 90, 73, 64, 87, 88, 80,\n",
       "       78, 75, 65, 81, 68, 77, 66])"
      ]
     },
     "execution_count": 51,
     "metadata": {},
     "output_type": "execute_result"
    }
   ],
   "source": [
    "np.argsort(alpha)"
   ]
  },
  {
   "cell_type": "code",
   "execution_count": null,
   "metadata": {},
   "outputs": [],
   "source": []
  }
 ],
 "metadata": {
  "kernelspec": {
   "display_name": "Python 3",
   "language": "python",
   "name": "python3"
  },
  "language_info": {
   "codemirror_mode": {
    "name": "ipython",
    "version": 3
   },
   "file_extension": ".py",
   "mimetype": "text/x-python",
   "name": "python",
   "nbconvert_exporter": "python",
   "pygments_lexer": "ipython3",
   "version": "3.8.2"
  }
 },
 "nbformat": 4,
 "nbformat_minor": 4
}
