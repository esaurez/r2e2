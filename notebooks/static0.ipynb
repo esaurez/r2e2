{
 "cells": [
  {
   "cell_type": "code",
   "execution_count": 46,
   "metadata": {},
   "outputs": [],
   "source": [
    "import os\n",
    "import sys\n",
    "import numpy as np\n",
    "import pandas as pd\n",
    "\n",
    "import matplotlib.pyplot as plt\n",
    "\n",
    "def get_data(path, time_start=0, time_end=np.Infinity):   \n",
    "    treelets = pd.read_csv(os.path.join(path, \"treelets.csv\"))\n",
    "    summary = pd.read_csv(os.path.join(path, \"summary.csv\"))\n",
    "\n",
    "    num_rays = (treelets[((treelets.timestamp >= time_start) & (treelets.timestamp < time_end)) | (treelets.timestamp == treelets.timestamp.min())]\n",
    "                        .sort_values('treeletId')\n",
    "                        .groupby('treeletId')\n",
    "                        .agg({'raysDequeued': 'sum'})\n",
    "                        .raysDequeued\n",
    "                        .to_numpy())\n",
    "\n",
    "    nodes_per_ray = (summary.sort_values('treeletId')\n",
    "                            .groupby('treeletId')\n",
    "                            .agg({'trace': 'sum',\n",
    "                                  'visited': 'sum'}))\n",
    "    \n",
    "    nodes_per_ray = (nodes_per_ray.visited / nodes_per_ray.trace).to_numpy()\n",
    "    return num_rays, nodes_per_ray\n",
    "\n",
    "def generate_static0(num_rays, nodes_per_ray):\n",
    "    average_ray_size = 250         # 500 bytes\n",
    "    average_bandwidth = 50_000_000 # 25 MB/s receive\n",
    "\n",
    "    cost_bw = average_ray_size / average_bandwidth\n",
    "    cost_compute = 0.25e-6 # 0.5us per node visited\n",
    "    \n",
    "    weights = np.nan_to_num(np.maximum(cost_bw * num_rays,\n",
    "                                       cost_compute * nodes_per_ray * num_rays))\n",
    "\n",
    "    return weights\n",
    "\n",
    "def generate_assignment(static0, max_workers):\n",
    "    weights = static0.copy()\n",
    "    treelet_count = len(weights)\n",
    "\n",
    "    assignment = np.zeros((treelet_count,), dtype=int)\n",
    "    idx = list(range(treelet_count))\n",
    "    idx = sorted(idx, key=lambda x: weights[x])\n",
    "    \n",
    "    for i in idx:\n",
    "        if np.sum(weights) == 0:\n",
    "            break\n",
    "        worker_count = np.ceil(weights[i] / np.sum(weights) * max_workers)\n",
    "        worker_count = max(worker_count, 1)\n",
    "        assignment[i] = worker_count\n",
    "        \n",
    "        weights[i] = 0\n",
    "        max_workers -= worker_count\n",
    "        \n",
    "    return assignment"
   ]
  },
  {
   "cell_type": "code",
   "execution_count": null,
   "metadata": {},
   "outputs": [],
   "source": [
    "max_workers = 2000\n",
    "base_assignment = generate_assignment(generate_static0(*get_data(\"/home/sadjad/temp/r2t2/moana9-beachcam\")),\n",
    "                                      max_workers)"
   ]
  },
  {
   "cell_type": "code",
   "execution_count": 128,
   "metadata": {},
   "outputs": [],
   "source": [
    "def plot_assignment(treelet_id, start_time, end_time, resolution):\n",
    "    res = []\n",
    "    \n",
    "    base_assignment = generate_assignment(generate_static0(*get_data(\"/home/sadjad/temp/r2t2/moana9-beachcam\")),\n",
    "                                         2000)\n",
    "    \n",
    "    for start in range(start_time, end_time, resolution):\n",
    "        assignment = generate_assignment(generate_static0(*get_data(\"/home/sadjad/temp/r2t2/moana9-beachcam\",\n",
    "                                                                    time_start=start, time_end=start + resolution)),\n",
    "                                         2000)\n",
    "        res += [assignment[treelet_id]]\n",
    "        \n",
    "    plt.plot(list(range(start_time, end_time, resolution))[1:], np.array(res[1:]), '-*')\n",
    "    plt.axhline(y=base_assignment[treelet_id], color='r', linestyle='--')"
   ]
  },
  {
   "cell_type": "code",
   "execution_count": 133,
   "metadata": {},
   "outputs": [
    {
     "data": {
      "image/png": "[encoded data removed]",
      "text/plain": [
       "<Figure size 432x288 with 1 Axes>"
      ]
     },
     "metadata": {
      "needs_background": "light"
     },
     "output_type": "display_data"
    }
   ],
   "source": [
    "plot_assignment(793, 25000, 100000, 1000)"
   ]
  },
  {
   "cell_type": "code",
   "execution_count": 68,
   "metadata": {},
   "outputs": [
    {
     "data": {
      "text/plain": [
       "(array([  0, 456, 638, 729, 733, 736, 737, 740, 741, 744, 748, 752, 754,\n",
       "        762, 764, 767, 772, 773, 775, 777, 778, 779, 780, 783, 785, 791,\n",
       "        792, 793, 794, 795, 798, 800, 801, 804, 805, 806, 808]),)"
      ]
     },
     "execution_count": 68,
     "metadata": {},
     "output_type": "execute_result"
    }
   ],
   "source": [
    "np.where(base_assignment > 1)"
   ]
  },
  {
   "cell_type": "code",
   "execution_count": null,
   "metadata": {},
   "outputs": [],
   "source": []
  }
 ],
 "metadata": {
  "kernelspec": {
   "display_name": "Python 3",
   "language": "python",
   "name": "python3"
  },
  "language_info": {
   "codemirror_mode": {
    "name": "ipython",
    "version": 3
   },
   "file_extension": ".py",
   "mimetype": "text/x-python",
   "name": "python",
   "nbconvert_exporter": "python",
   "pygments_lexer": "ipython3",
   "version": "3.8.6"
  }
 },
 "nbformat": 4,
 "nbformat_minor": 4
}
